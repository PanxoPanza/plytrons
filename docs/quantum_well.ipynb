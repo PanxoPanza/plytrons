{
 "cells": [
  {
   "cell_type": "code",
   "execution_count": null,
   "id": "feeb5bb0",
   "metadata": {},
   "outputs": [],
   "source": [
    "import pandas as pd\n",
    "from plytrons.quantum_well import get_bound_states, get_normalization, e_state_assembly, _bound_states_ragged\n",
    "\n",
    "hbar = 0.6582118  # Reduced planck constant (eV*fs)\n",
    "me   = 5.686      # electron mass (eV*fs^2/nm^2)\n",
    "\n",
    "eval_V = 10       #Max energy evaluated (eV)\n",
    "\n",
    "# problem parameters\n",
    "D     = 5         # sphere diameter (nm)\n",
    "a     = D/2        # sphere radius (nm)\n",
    "\n",
    "E_matrix = get_bound_states(a)\n",
    "A_matrix = get_normalization(a, E_matrix)\n",
    "\n",
    "E_df = pd.DataFrame(E_matrix)\n",
    "A_df = pd.DataFrame(A_matrix)\n",
    "\n",
    "# states_df.to_csv(f\"Energy_states_{D}.txt\", sep='\\t', index=False)    \n",
    "E_df.to_csv(f\"Energy_states_{D}.csv\", sep='\\t', index=False)\n",
    "A_df.to_csv(f\"Normalization_coef_A_{D}.csv\", sep='\\t', index=False)\n"
   ]
  },
  {
   "cell_type": "code",
   "execution_count": null,
   "id": "c3150e99",
   "metadata": {},
   "outputs": [],
   "source": [
    "\n",
    "e_state = e_state_assembly(E_matrix, A_matrix)"
   ]
  }
 ],
 "metadata": {
  "kernelspec": {
   "display_name": "base",
   "language": "python",
   "name": "python3"
  },
  "language_info": {
   "codemirror_mode": {
    "name": "ipython",
    "version": 3
   },
   "file_extension": ".py",
   "mimetype": "text/x-python",
   "name": "python",
   "nbconvert_exporter": "python",
   "pygments_lexer": "ipython3",
   "version": "3.11.6"
  }
 },
 "nbformat": 4,
 "nbformat_minor": 5
}
